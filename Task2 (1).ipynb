{
  "nbformat": 4,
  "nbformat_minor": 0,
  "metadata": {
    "colab": {
      "name": "Task2.ipynb",
      "provenance": [],
      "collapsed_sections": []
    },
    "kernelspec": {
      "name": "python3",
      "display_name": "Python 3"
    }
  },
  "cells": [
    {
      "cell_type": "markdown",
      "metadata": {
        "id": "hBbqPGe_xJVy",
        "colab_type": "text"
      },
      "source": [
        "Importing the libraries necessary for the task"
      ]
    },
    {
      "cell_type": "code",
      "metadata": {
        "id": "-Z00hSBe9dM3",
        "colab_type": "code",
        "colab": {}
      },
      "source": [
        "import numpy as np\n",
        "import pandas as pd\n",
        "import matplotlib.pyplot as plt"
      ],
      "execution_count": 1,
      "outputs": []
    },
    {
      "cell_type": "markdown",
      "metadata": {
        "id": "6dc4xBhzxOtw",
        "colab_type": "text"
      },
      "source": [
        "Reading the values from the CSV File"
      ]
    },
    {
      "cell_type": "code",
      "metadata": {
        "id": "f1LZ_c1C9fVj",
        "colab_type": "code",
        "colab": {
          "base_uri": "https://localhost:8080/",
          "height": 33
        },
        "outputId": "66a860c4-3c57-491b-ce2d-60a55d8da846"
      },
      "source": [
        "data = pd.read_csv(\"/content/student_scores - student_scores.csv\").values\n",
        "print(data.shape)"
      ],
      "execution_count": 4,
      "outputs": [
        {
          "output_type": "stream",
          "text": [
            "(25, 2)\n"
          ],
          "name": "stdout"
        }
      ]
    },
    {
      "cell_type": "markdown",
      "metadata": {
        "id": "0CZoAQrtxWF5",
        "colab_type": "text"
      },
      "source": [
        "Taking the training data as X and target values as Y from the  columns of the given data"
      ]
    },
    {
      "cell_type": "code",
      "metadata": {
        "id": "3797Ar_fnhPo",
        "colab_type": "code",
        "colab": {
          "base_uri": "https://localhost:8080/",
          "height": 67
        },
        "outputId": "e95e6bee-3bcd-4d38-aaf8-89c2e989ea57"
      },
      "source": [
        "X = data[:, 0]\n",
        "Y = data[:, 1]\n",
        "\n",
        "print(X, Y)"
      ],
      "execution_count": 6,
      "outputs": [
        {
          "output_type": "stream",
          "text": [
            "[2.5 5.1 3.2 8.5 3.5 1.5 9.2 5.5 8.3 2.7 7.7 5.9 4.5 3.3 1.1 8.9 2.5 1.9\n",
            " 6.1 7.4 2.7 4.8 3.8 6.9 7.8] [21. 47. 27. 75. 30. 20. 88. 60. 81. 25. 85. 62. 41. 42. 17. 95. 30. 24.\n",
            " 67. 69. 30. 54. 35. 76. 86.]\n"
          ],
          "name": "stdout"
        }
      ]
    },
    {
      "cell_type": "markdown",
      "metadata": {
        "id": "mPCGD_O5xdmH",
        "colab_type": "text"
      },
      "source": [
        "Since X is a single feature and Y is a single output corresponding to X, the values have been reshaped and transposed."
      ]
    },
    {
      "cell_type": "code",
      "metadata": {
        "id": "52nZme3rohrB",
        "colab_type": "code",
        "colab": {
          "base_uri": "https://localhost:8080/",
          "height": 836
        },
        "outputId": "55f787ea-217c-4c19-86f6-41e6e1b2ba68"
      },
      "source": [
        "X = X.reshape(1, -1).T\n",
        "Y = Y.reshape(1, -1).T\n",
        "\n",
        "print(X, Y)"
      ],
      "execution_count": 11,
      "outputs": [
        {
          "output_type": "stream",
          "text": [
            "[[2.5]\n",
            " [5.1]\n",
            " [3.2]\n",
            " [8.5]\n",
            " [3.5]\n",
            " [1.5]\n",
            " [9.2]\n",
            " [5.5]\n",
            " [8.3]\n",
            " [2.7]\n",
            " [7.7]\n",
            " [5.9]\n",
            " [4.5]\n",
            " [3.3]\n",
            " [1.1]\n",
            " [8.9]\n",
            " [2.5]\n",
            " [1.9]\n",
            " [6.1]\n",
            " [7.4]\n",
            " [2.7]\n",
            " [4.8]\n",
            " [3.8]\n",
            " [6.9]\n",
            " [7.8]] [[21.]\n",
            " [47.]\n",
            " [27.]\n",
            " [75.]\n",
            " [30.]\n",
            " [20.]\n",
            " [88.]\n",
            " [60.]\n",
            " [81.]\n",
            " [25.]\n",
            " [85.]\n",
            " [62.]\n",
            " [41.]\n",
            " [42.]\n",
            " [17.]\n",
            " [95.]\n",
            " [30.]\n",
            " [24.]\n",
            " [67.]\n",
            " [69.]\n",
            " [30.]\n",
            " [54.]\n",
            " [35.]\n",
            " [76.]\n",
            " [86.]]\n"
          ],
          "name": "stdout"
        }
      ]
    },
    {
      "cell_type": "markdown",
      "metadata": {
        "id": "EBZQCXCHysZ6",
        "colab_type": "text"
      },
      "source": [
        "Applying Linear regression and checking the r2 score"
      ]
    },
    {
      "cell_type": "code",
      "metadata": {
        "id": "5cuUJeO7no7c",
        "colab_type": "code",
        "colab": {
          "base_uri": "https://localhost:8080/",
          "height": 33
        },
        "outputId": "b4c18ef3-3c96-46ed-aec8-e51626736847"
      },
      "source": [
        "from sklearn.linear_model import LinearRegression as LR\n",
        "\n",
        "model = LR()\n",
        "model.fit(X, Y)\n",
        "\n",
        "model.score(X, Y) # r2_score for the model"
      ],
      "execution_count": 9,
      "outputs": [
        {
          "output_type": "execute_result",
          "data": {
            "text/plain": [
              "0.9529481969048356"
            ]
          },
          "metadata": {
            "tags": []
          },
          "execution_count": 9
        }
      ]
    },
    {
      "cell_type": "markdown",
      "metadata": {
        "id": "oyuOfW6I0gro",
        "colab_type": "text"
      },
      "source": [
        "Now predicting the value for 9.25 hours"
      ]
    },
    {
      "cell_type": "code",
      "metadata": {
        "id": "LjejBeFjoOYK",
        "colab_type": "code",
        "colab": {
          "base_uri": "https://localhost:8080/",
          "height": 33
        },
        "outputId": "248a84fd-910c-4850-9c2b-2f1dd9298318"
      },
      "source": [
        "print(model.predict(np.array([[9.25]])))"
      ],
      "execution_count": 10,
      "outputs": [
        {
          "output_type": "stream",
          "text": [
            "[[92.90985477]]\n"
          ],
          "name": "stdout"
        }
      ]
    },
    {
      "cell_type": "code",
      "metadata": {
        "id": "FdZPWklnRarP",
        "colab_type": "code",
        "colab": {}
      },
      "source": [
        ""
      ],
      "execution_count": null,
      "outputs": []
    }
  ]
}